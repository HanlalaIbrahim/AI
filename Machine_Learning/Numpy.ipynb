{
 "cells": [
  {
   "cell_type": "code",
   "execution_count": 1,
   "id": "fe017737",
   "metadata": {},
   "outputs": [
    {
     "name": "stdout",
     "output_type": "stream",
     "text": [
      "Requirement already satisfied: numpy in c:\\users\\admin\\.conda\\envs\\sam\\lib\\site-packages (1.25.2)\n",
      "Note: you may need to restart the kernel to use updated packages.\n"
     ]
    }
   ],
   "source": [
    "pip install numpy"
   ]
  },
  {
   "cell_type": "code",
   "execution_count": 2,
   "id": "6fbdb28d",
   "metadata": {},
   "outputs": [],
   "source": [
    "import numpy as np"
   ]
  },
  {
   "cell_type": "code",
   "execution_count": 3,
   "id": "be2301c2",
   "metadata": {},
   "outputs": [
    {
     "name": "stdout",
     "output_type": "stream",
     "text": [
      "<class 'numpy.ndarray'>\n"
     ]
    }
   ],
   "source": [
    "a = np.array([(1,2,3),(4,5,6)])\n",
    "\n",
    "print(type(a))"
   ]
  },
  {
   "cell_type": "code",
   "execution_count": 4,
   "id": "2ef6039f",
   "metadata": {},
   "outputs": [
    {
     "name": "stdout",
     "output_type": "stream",
     "text": [
      "[[1 2 3]\n",
      " [4 5 6]]\n"
     ]
    }
   ],
   "source": [
    "print(a)"
   ]
  },
  {
   "cell_type": "code",
   "execution_count": 5,
   "id": "82d0e6da",
   "metadata": {},
   "outputs": [
    {
     "name": "stdout",
     "output_type": "stream",
     "text": [
      "[[1 4]\n",
      " [2 5]\n",
      " [3 6]]\n"
     ]
    }
   ],
   "source": [
    "t=np.transpose(a)\n",
    "print(t)"
   ]
  },
  {
   "cell_type": "code",
   "execution_count": 6,
   "id": "8fd77c1c",
   "metadata": {},
   "outputs": [
    {
     "data": {
      "text/plain": [
       "array([1, 2, 3, 4, 5, 6])"
      ]
     },
     "execution_count": 6,
     "metadata": {},
     "output_type": "execute_result"
    }
   ],
   "source": [
    "a.ravel()"
   ]
  },
  {
   "cell_type": "code",
   "execution_count": 11,
   "id": "c181b941",
   "metadata": {},
   "outputs": [
    {
     "data": {
      "text/plain": [
       "array([[1, 2],\n",
       "       [3, 4],\n",
       "       [5, 6]])"
      ]
     },
     "execution_count": 11,
     "metadata": {},
     "output_type": "execute_result"
    }
   ],
   "source": [
    "a.reshape(3,2)"
   ]
  },
  {
   "cell_type": "code",
   "execution_count": 18,
   "id": "f246457c",
   "metadata": {},
   "outputs": [],
   "source": [
    "zeromatrix = np.zeros((2,2))"
   ]
  },
  {
   "cell_type": "code",
   "execution_count": 19,
   "id": "f74f33e7",
   "metadata": {},
   "outputs": [
    {
     "data": {
      "text/plain": [
       "array([[0., 0.],\n",
       "       [0., 0.]])"
      ]
     },
     "execution_count": 19,
     "metadata": {},
     "output_type": "execute_result"
    }
   ],
   "source": [
    "zeromatrix"
   ]
  },
  {
   "cell_type": "code",
   "execution_count": 22,
   "id": "37c2a8be",
   "metadata": {},
   "outputs": [],
   "source": [
    "onesmatrix = np.ones((2,2))"
   ]
  },
  {
   "cell_type": "code",
   "execution_count": 23,
   "id": "b7d1cc0c",
   "metadata": {},
   "outputs": [
    {
     "data": {
      "text/plain": [
       "array([[1., 1.],\n",
       "       [1., 1.]])"
      ]
     },
     "execution_count": 23,
     "metadata": {},
     "output_type": "execute_result"
    }
   ],
   "source": [
    "onesmatrix"
   ]
  },
  {
   "cell_type": "code",
   "execution_count": 33,
   "id": "fe022169",
   "metadata": {},
   "outputs": [
    {
     "data": {
      "text/plain": [
       "array([0., 0., 0., 0., 1., 1., 1., 1.])"
      ]
     },
     "execution_count": 33,
     "metadata": {},
     "output_type": "execute_result"
    }
   ],
   "source": [
    "np.append(zeromatrix,onesmatrix)"
   ]
  },
  {
   "cell_type": "code",
   "execution_count": 24,
   "id": "d71f5fbf",
   "metadata": {},
   "outputs": [],
   "source": [
    "ins = np.insert(a,2,5)"
   ]
  },
  {
   "cell_type": "code",
   "execution_count": 25,
   "id": "fa2b6c99",
   "metadata": {},
   "outputs": [
    {
     "data": {
      "text/plain": [
       "array([1, 2, 5, 3, 4, 5, 6])"
      ]
     },
     "execution_count": 25,
     "metadata": {},
     "output_type": "execute_result"
    }
   ],
   "source": [
    "ins"
   ]
  },
  {
   "cell_type": "code",
   "execution_count": 36,
   "id": "823b29b8",
   "metadata": {},
   "outputs": [],
   "source": [
    "dele = np.delete(a,2)"
   ]
  },
  {
   "cell_type": "code",
   "execution_count": 37,
   "id": "4ca6cbc1",
   "metadata": {},
   "outputs": [
    {
     "data": {
      "text/plain": [
       "array([1, 2, 4, 5, 6])"
      ]
     },
     "execution_count": 37,
     "metadata": {},
     "output_type": "execute_result"
    }
   ],
   "source": [
    "dele"
   ]
  },
  {
   "cell_type": "code",
   "execution_count": 30,
   "id": "e1210d70",
   "metadata": {},
   "outputs": [
    {
     "data": {
      "text/plain": [
       "array([[1, 2, 3, 1, 2, 3],\n",
       "       [4, 5, 6, 4, 5, 6]])"
      ]
     },
     "execution_count": 30,
     "metadata": {},
     "output_type": "execute_result"
    }
   ],
   "source": [
    "np.concatenate((a,a),axis=1)"
   ]
  },
  {
   "cell_type": "code",
   "execution_count": 31,
   "id": "8dab76a8",
   "metadata": {},
   "outputs": [
    {
     "data": {
      "text/plain": [
       "array([[1, 2, 3, 1, 2, 3],\n",
       "       [4, 5, 6, 4, 5, 6]])"
      ]
     },
     "execution_count": 31,
     "metadata": {},
     "output_type": "execute_result"
    }
   ],
   "source": [
    "np.hstack((a,a))"
   ]
  },
  {
   "cell_type": "code",
   "execution_count": 32,
   "id": "c6edab73",
   "metadata": {},
   "outputs": [
    {
     "data": {
      "text/plain": [
       "array([[1, 2, 3],\n",
       "       [4, 5, 6],\n",
       "       [1, 2, 3],\n",
       "       [4, 5, 6]])"
      ]
     },
     "execution_count": 32,
     "metadata": {},
     "output_type": "execute_result"
    }
   ],
   "source": [
    "np.vstack((a,a))"
   ]
  },
  {
   "cell_type": "code",
   "execution_count": 34,
   "id": "acfd6d99",
   "metadata": {},
   "outputs": [
    {
     "data": {
      "text/plain": [
       "[array([[1, 2, 3]]), array([[4, 5, 6]])]"
      ]
     },
     "execution_count": 34,
     "metadata": {},
     "output_type": "execute_result"
    }
   ],
   "source": [
    "np.vsplit(a,2)"
   ]
  },
  {
   "cell_type": "code",
   "execution_count": 40,
   "id": "0b31392b",
   "metadata": {},
   "outputs": [
    {
     "data": {
      "text/plain": [
       "array([[0.00000000e+000, 0.00000000e+000, 0.00000000e+000],\n",
       "       [0.00000000e+000, 0.00000000e+000, 6.81810591e-321],\n",
       "       [3.11525958e-307, 1.24610723e-306, 0.00000000e+000]])"
      ]
     },
     "execution_count": 40,
     "metadata": {},
     "output_type": "execute_result"
    }
   ],
   "source": [
    "# empty matrix it create a address for an empty matrix\n",
    "\n",
    "np.empty((3,3))"
   ]
  },
  {
   "cell_type": "code",
   "execution_count": 42,
   "id": "b819638d",
   "metadata": {},
   "outputs": [
    {
     "data": {
      "text/plain": [
       "array([[0.33248036, 0.77182931, 0.60392075, 0.67540166, 0.9556009 ,\n",
       "        0.00823193, 0.32383743, 0.47108308, 0.46943478, 0.66747721],\n",
       "       [0.8536543 , 0.85526207, 0.1708856 , 0.50473398, 0.54414584,\n",
       "        0.61689775, 0.97516012, 0.15132968, 0.91559332, 0.78652823],\n",
       "       [0.868602  , 0.35786816, 0.15377416, 0.10053314, 0.32748283,\n",
       "        0.39490498, 0.32508015, 0.34210753, 0.46078011, 0.95068976],\n",
       "       [0.46866287, 0.37612142, 0.08501666, 0.67193489, 0.70684704,\n",
       "        0.25658034, 0.53761634, 0.42190776, 0.34965766, 0.79570135],\n",
       "       [0.78251081, 0.19311738, 0.89928411, 0.35293798, 0.63023088,\n",
       "        0.5763673 , 0.35516408, 0.20739457, 0.2832126 , 0.49032374],\n",
       "       [0.29179875, 0.74625411, 0.24510454, 0.7324291 , 0.50085285,\n",
       "        0.48344039, 0.26396458, 0.66108105, 0.54079597, 0.30450017],\n",
       "       [0.36383737, 0.52198691, 0.79176262, 0.09595774, 0.9278353 ,\n",
       "        0.6420545 , 0.43748863, 0.23081755, 0.44330686, 0.00546571],\n",
       "       [0.00763165, 0.58794639, 0.4885196 , 0.97781107, 0.98254261,\n",
       "        0.7179151 , 0.18950232, 0.20748673, 0.84099442, 0.74567576],\n",
       "       [0.11753093, 0.9620667 , 0.59252428, 0.66104407, 0.72595294,\n",
       "        0.5149446 , 0.11154803, 0.18333617, 0.41568638, 0.63718158],\n",
       "       [0.740718  , 0.94170464, 0.61073203, 0.33121623, 0.1233135 ,\n",
       "        0.57806716, 0.81241906, 0.48109191, 0.12032231, 0.40404786]])"
      ]
     },
     "execution_count": 42,
     "metadata": {},
     "output_type": "execute_result"
    }
   ],
   "source": [
    "# it create matrix with random number\n",
    "rand=np.random.random((10,10))\n",
    "rand"
   ]
  },
  {
   "cell_type": "code",
   "execution_count": null,
   "id": "a588c82e",
   "metadata": {},
   "outputs": [],
   "source": []
  }
 ],
 "metadata": {
  "kernelspec": {
   "display_name": "Python 3 (ipykernel)",
   "language": "python",
   "name": "python3"
  },
  "language_info": {
   "codemirror_mode": {
    "name": "ipython",
    "version": 3
   },
   "file_extension": ".py",
   "mimetype": "text/x-python",
   "name": "python",
   "nbconvert_exporter": "python",
   "pygments_lexer": "ipython3",
   "version": "3.9.16"
  }
 },
 "nbformat": 4,
 "nbformat_minor": 5
}
