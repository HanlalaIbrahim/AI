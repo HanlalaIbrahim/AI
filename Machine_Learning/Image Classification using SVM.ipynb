{
 "cells": [
  {
   "cell_type": "markdown",
   "id": "ad511bce",
   "metadata": {},
   "source": [
    "### Recognition of Tamil actors using PCA and SVM"
   ]
  },
  {
   "cell_type": "code",
   "execution_count": 1,
   "id": "89024f48",
   "metadata": {},
   "outputs": [],
   "source": [
    "import os\n",
    "import warnings\n",
    "warnings.simplefilter('ignore')"
   ]
  },
  {
   "cell_type": "code",
   "execution_count": 2,
   "id": "cb73b1f7",
   "metadata": {},
   "outputs": [],
   "source": [
    "import numpy as np\n",
    "import pandas as pd\n",
    "import matplotlib.pyplot as pt\n",
    "\n",
    "%matplotlib inline"
   ]
  },
  {
   "cell_type": "code",
   "execution_count": 3,
   "id": "c8115e9b",
   "metadata": {},
   "outputs": [],
   "source": [
    "# pip install scikit-image"
   ]
  },
  {
   "cell_type": "code",
   "execution_count": 4,
   "id": "feb07cc9",
   "metadata": {},
   "outputs": [],
   "source": [
    "from skimage.io import imread, imshow\n",
    "from skimage.transform import resize\n",
    "from skimage.color import rgb2gray"
   ]
  },
  {
   "cell_type": "code",
   "execution_count": 5,
   "id": "960cf86b",
   "metadata": {},
   "outputs": [],
   "source": [
    "dwane_jhonson=os.listdir(\"Dwane jhonson\")"
   ]
  },
  {
   "cell_type": "code",
   "execution_count": null,
   "id": "b5abf4ea",
   "metadata": {},
   "outputs": [],
   "source": [
    "ryan_ronalds"
   ]
  }
 ],
 "metadata": {
  "kernelspec": {
   "display_name": "Python 3 (ipykernel)",
   "language": "python",
   "name": "python3"
  },
  "language_info": {
   "codemirror_mode": {
    "name": "ipython",
    "version": 3
   },
   "file_extension": ".py",
   "mimetype": "text/x-python",
   "name": "python",
   "nbconvert_exporter": "python",
   "pygments_lexer": "ipython3",
   "version": "3.11.5"
  }
 },
 "nbformat": 4,
 "nbformat_minor": 5
}
