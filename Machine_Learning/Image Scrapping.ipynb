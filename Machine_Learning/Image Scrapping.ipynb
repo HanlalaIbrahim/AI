{
 "cells": [
  {
   "cell_type": "code",
   "execution_count": 1,
   "id": "63deb331",
   "metadata": {},
   "outputs": [],
   "source": [
    "# pip install bing_image_downloader"
   ]
  },
  {
   "cell_type": "code",
   "execution_count": 2,
   "id": "82cd95fc",
   "metadata": {},
   "outputs": [],
   "source": [
    "from bing_image_downloader import downloader as d"
   ]
  },
  {
   "cell_type": "code",
   "execution_count": 3,
   "id": "88a5ef87",
   "metadata": {
    "collapsed": true
   },
   "outputs": [
    {
     "name": "stdout",
     "output_type": "stream",
     "text": [
      "[%] Downloading Images to C:\\Users\\Admin\\cse\\PMIST\n",
      "\n",
      "\n",
      "[!!]Indexing page: 1\n",
      "\n",
      "[%] Indexed 5 Images on Page 1.\n",
      "\n",
      "===============================================\n",
      "\n",
      "[%] Downloading Image #1 from https://images.collegedunia.com/public/college_data/images/appImage/25891_PMU_New.jpg?mode=stretch\n",
      "[Error]Invalid image, not saving https://images.collegedunia.com/public/college_data/images/appImage/25891_PMU_New.jpg?mode=stretch\n",
      "\n",
      "[!] Issue getting: https://images.collegedunia.com/public/college_data/images/appImage/25891_PMU_New.jpg?mode=stretch\n",
      "[!] Error:: Invalid image, not saving https://images.collegedunia.com/public/college_data/images/appImage/25891_PMU_New.jpg?mode=stretch\n",
      "\n",
      "[%] Downloading Image #1 from http://www.pmu.edu/F/site-assets/images/new-logo1.jpg\n",
      "[%] File Downloaded !\n",
      "\n",
      "[%] Downloading Image #2 from https://university-nic.in/wp-content/uploads/Periyar-Manaimmai-Institute-of-Science-Technology-PMIST.jpg\n",
      "[%] File Downloaded !\n",
      "\n",
      "[%] Downloading Image #3 from https://www.tamilnaducareers.in/wp-content/uploads/2020/06/PMIST.jpg\n",
      "[%] File Downloaded !\n",
      "\n",
      "[%] Downloading Image #4 from http://pmu.edu/images/DoECE.png\n",
      "[%] File Downloaded !\n",
      "\n",
      "\n",
      "\n",
      "[!!]Indexing page: 2\n",
      "\n",
      "[%] Indexed 35 Images on Page 2.\n",
      "\n",
      "===============================================\n",
      "\n",
      "[%] Downloading Image #5 from https://www.pmu.edu/F/site-assets/images/banner.jpg\n",
      "[%] File Downloaded !\n",
      "\n",
      "\n",
      "\n",
      "[%] Done. Downloaded 5 images.\n"
     ]
    }
   ],
   "source": [
    "d.download(\"PMIST\",limit=5,output_dir = \"\",adult_filter_off=False,force_replace=False)\n",
    "# force replace, replace the existing file if you want"
   ]
  },
  {
   "cell_type": "code",
   "execution_count": 4,
   "id": "9b0b3f5a",
   "metadata": {},
   "outputs": [],
   "source": [
    "from bs4 import BeautifulSoup as bs\n",
    "import requests\n"
   ]
  },
  {
   "cell_type": "code",
   "execution_count": 5,
   "id": "8c1bcffd",
   "metadata": {
    "collapsed": true
   },
   "outputs": [
    {
     "name": "stdout",
     "output_type": "stream",
     "text": [
      "//static-assets-web.flixcart.com/fk-p-linchpin-web/fk-cp-zion/img/flipkart-plus_8d85f4.png\n",
      "//static-assets-web.flixcart.com/fk-p-linchpin-web/fk-cp-zion/img/plus_aef861.png\n",
      "None\n",
      "https://rukminim2.flixcart.com/fk-p-flap/100/100/image/d71918f76037af12.jpg?q=50\n",
      "//static-assets-web.flixcart.com/fk-p-linchpin-web/fk-cp-zion/img/fa_62673a.png\n",
      "https://rukminim2.flixcart.com/fk-p-flap/240/240/image/059c763612908e31.jpg?q=90\n",
      "https://rukminim2.flixcart.com/fk-p-flap/240/240/image/dc8a36bb50c1d96a.jpg?q=90\n",
      "https://rukminim2.flixcart.com/fk-p-flap/240/240/image/b9a573a09e83cf82.jpg?q=90\n",
      "https://rukminim2.flixcart.com/fk-p-flap/240/240/image/ef86060ca7c7b895.jpg?q=90\n",
      "https://rukminim2.flixcart.com/fk-p-flap/240/240/image/df90397dfd74a8ed.jpg?q=90\n",
      "https://rukminim2.flixcart.com/fk-p-flap/240/240/image/70db8464d13e9b83.jpg?q=90\n",
      "https://rukminim2.flixcart.com/fk-p-flap/240/240/image/8c01674f526fe506.jpg?q=90\n",
      "https://rukminim2.flixcart.com/fk-p-flap/240/240/image/f29ce08479bfb046.jpg?q=90\n",
      "None\n",
      "https://rukminim2.flixcart.com/fk-p-flap/100/100/image/e4ca86831e9dc50d.jpg?q=50\n",
      "None\n",
      "https://rukminim2.flixcart.com/fk-p-flap/844/140/image/19d10c950343f47a.jpg?q=50\n",
      "None\n",
      "https://rukminim2.flixcart.com/fk-p-flap/844/140/image/687ed4e547bd35f7.jpg?q=50\n",
      "None\n",
      "https://rukminim2.flixcart.com/fk-p-flap/844/140/image/5a0930b57bbed976.jpg?q=50\n",
      "None\n",
      "https://rukminim2.flixcart.com/fk-p-flap/50/50/image/4d1fc87246be98fc.jpg?q=50\n",
      "None\n",
      "https://rukminim2.flixcart.com/fk-p-flap/50/50/image/e2051ff0a65ccbf7.jpg?q=50\n",
      "None\n",
      "https://rukminim2.flixcart.com/fk-p-flap/50/50/image/f15823d28d06436f.jpg?q=50\n",
      "None\n",
      "https://rukminim2.flixcart.com/flap/100/100/image/b22ba6f1a174ffdd.jpg?q=50\n",
      "None\n",
      "https://rukminim2.flixcart.com/fk-p-flap/844/140/image/c7a75fbc8a6e5224.jpg?q=50\n",
      "None\n",
      "https://rukminim2.flixcart.com/fk-p-flap/844/140/image/bf1394b8812a22f0.jpg?q=50\n",
      "None\n",
      "https://rukminim2.flixcart.com/fk-p-flap/844/140/image/5bd7a21e4a2a047e.jpg?q=50\n",
      "None\n",
      "https://rukminim2.flixcart.com/fk-p-flap/844/140/image/a16af2b8c1469ba9.jpg?q=50\n",
      "None\n",
      "https://rukminim2.flixcart.com/fk-p-flap/100/100/image/55c8b2f8975eda2d.jpg?q=50\n",
      "None\n",
      "https://rukminim2.flixcart.com/fk-p-flap/844/140/image/7fc050ddfccc453f.jpg?q=50\n",
      "None\n",
      "https://rukminim2.flixcart.com/fk-p-flap/100/100/image/defac1bdda5db76b.jpg?q=50\n",
      "None\n",
      "https://rukminim2.flixcart.com/fk-p-flap/50/50/image/165e3e7cd0c3728e.jpg?q=50\n",
      "None\n",
      "https://rukminim2.flixcart.com/fk-p-flap/50/50/image/bcc87bc2fade20c2.jpg?q=50\n",
      "None\n",
      "https://rukminim2.flixcart.com/fk-p-flap/50/50/image/b4e5151fc3cb8952.jpg?q=50\n",
      "None\n",
      "https://rukminim2.flixcart.com/fk-p-flap/50/50/image/dcda89995d50bc37.jpg?q=50\n",
      "None\n",
      "https://rukminim2.flixcart.com/fk-p-flap/50/50/image/a788c9aaadf14206.jpg?q=50\n",
      "None\n",
      "https://rukminim2.flixcart.com/fk-p-flap/50/50/image/5cf9f05c3ae3db8c.jpg?q=50\n",
      "None\n",
      "https://rukminim2.flixcart.com/fk-p-flap/50/50/image/c9073fed7905c90d.jpg?q=50\n",
      "None\n",
      "https://rukminim2.flixcart.com/fk-p-flap/50/50/image/bc4464bdb53e86af.jpg?q=50\n",
      "None\n",
      "https://rukminim2.flixcart.com/fk-p-flap/50/50/image/30ffa3e747d64010.jpg?q=50\n",
      "None\n",
      "https://rukminim2.flixcart.com/fk-p-flap/100/100/image/28f36dad1e999d16.jpg?q=50\n",
      "data:image/svg+xml;base64,PHN2ZyB4bWxucz0iaHR0cDovL3d3dy53My5vcmcvMjAwMC9zdmciIHdpZHRoPSIxNiIgaGVpZ2h0PSIxNSIgdmlld0JveD0iMCAwIDE2IDE1Ij4KICAgIDxkZWZzPgogICAgICAgIDxsaW5lYXJHcmFkaWVudCBpZD0iYSIgeDE9IjAlIiB4Mj0iODYuODc2JSIgeTE9IjAlIiB5Mj0iODAuMjAyJSI+CiAgICAgICAgICAgIDxzdG9wIG9mZnNldD0iMCUiIHN0b3AtY29sb3I9IiNGRkQ4MDAiLz4KICAgICAgICAgICAgPHN0b3Agb2Zmc2V0PSIxMDAlIiBzdG9wLWNvbG9yPSIjRkZBRjAwIi8+CiAgICAgICAgPC9saW5lYXJHcmFkaWVudD4KICAgIDwvZGVmcz4KICAgIDxnIGZpbGw9Im5vbmUiIGZpbGwtcnVsZT0iZXZlbm9kZCI+CiAgICAgICAgPHBhdGggZD0iTS0yLTJoMjB2MjBILTJ6Ii8+CiAgICAgICAgPHBhdGggZmlsbD0idXJsKCNhKSIgZmlsbC1ydWxlPSJub256ZXJvIiBkPSJNMTUuOTMgNS42MTRoLTIuOTQ4VjQuMTRjMC0uODE4LS42NTUtMS40NzMtMS40NzMtMS40NzNIOC41NmMtLjgxNyAwLTEuNDczLjY1NS0xLjQ3MyAxLjQ3M3YxLjQ3NEg0LjE0Yy0uODE4IDAtMS40NjYuNjU2LTEuNDY2IDEuNDc0bC0uMDA3IDguMTA1YzAgLjgxOC42NTUgMS40NzQgMS40NzMgMS40NzRoMTEuNzljLjgxOCAwIDEuNDc0LS42NTYgMS40NzQtMS40NzRWNy4wODhjMC0uODE4LS42NTYtMS40NzQtMS40NzQtMS40NzR6bS00LjQyMSAwSDguNTZWNC4xNGgyLjk0OHYxLjQ3NHoiIHRyYW5zZm9ybT0idHJhbnNsYXRlKC0yIC0yKSIvPgogICAgPC9nPgo8L3N2Zz4K\n",
      "data:image/svg+xml;base64,PHN2ZyB4bWxucz0iaHR0cDovL3d3dy53My5vcmcvMjAwMC9zdmciIHdpZHRoPSIxNSIgaGVpZ2h0PSIxNSIgdmlld0JveD0iMCAwIDE1IDE1Ij4KICAgIDxkZWZzPgogICAgICAgIDxsaW5lYXJHcmFkaWVudCBpZD0iYSIgeDE9IjAlIiB4Mj0iODYuODc2JSIgeTE9IjAlIiB5Mj0iODAuMjAyJSI+CiAgICAgICAgICAgIDxzdG9wIG9mZnNldD0iMCUiIHN0b3AtY29sb3I9IiNGRkQ4MDAiLz4KICAgICAgICAgICAgPHN0b3Agb2Zmc2V0PSIxMDAlIiBzdG9wLWNvbG9yPSIjRkZBRjAwIi8+CiAgICAgICAgPC9saW5lYXJHcmFkaWVudD4KICAgIDwvZGVmcz4KICAgIDxnIGZpbGw9Im5vbmUiIGZpbGwtcnVsZT0iZXZlbm9kZCI+CiAgICAgICAgPHBhdGggZD0iTS0zLTNoMjB2MjBILTN6Ii8+CiAgICAgICAgPHBhdGggZmlsbD0idXJsKCNhKSIgZmlsbC1ydWxlPSJub256ZXJvIiBkPSJNMTAuNDkyIDNDNi4zNTMgMyAzIDYuMzYgMyAxMC41YzAgNC4xNCAzLjM1MyA3LjUgNy40OTIgNy41QzE0LjY0IDE4IDE4IDE0LjY0IDE4IDEwLjUgMTggNi4zNiAxNC42NCAzIDEwLjQ5MiAzem0zLjE4IDEyTDEwLjUgMTMuMDg4IDcuMzI3IDE1bC44NC0zLjYwN0w1LjM3IDguOTdsMy42OS0uMzE1TDEwLjUgNS4yNWwxLjQ0IDMuMzk4IDMuNjkuMzE1LTIuNzk4IDIuNDIyLjg0IDMuNjE1eiIgdHJhbnNmb3JtPSJ0cmFuc2xhdGUoLTMgLTMpIi8+CiAgICA8L2c+Cjwvc3ZnPgo=\n",
      "data:image/svg+xml;base64,PHN2ZyB4bWxucz0iaHR0cDovL3d3dy53My5vcmcvMjAwMC9zdmciIHdpZHRoPSIxOCIgaGVpZ2h0PSIxNyIgdmlld0JveD0iMCAwIDE4IDE3Ij4KICAgIDxkZWZzPgogICAgICAgIDxsaW5lYXJHcmFkaWVudCBpZD0iYSIgeDE9IjAlIiB4Mj0iODYuODc2JSIgeTE9IjAlIiB5Mj0iODAuMjAyJSI+CiAgICAgICAgICAgIDxzdG9wIG9mZnNldD0iMCUiIHN0b3AtY29sb3I9IiNGRkQ4MDAiLz4KICAgICAgICAgICAgPHN0b3Agb2Zmc2V0PSIxMDAlIiBzdG9wLWNvbG9yPSIjRkZBRjAwIi8+CiAgICAgICAgPC9saW5lYXJHcmFkaWVudD4KICAgIDwvZGVmcz4KICAgIDxnIGZpbGw9Im5vbmUiIGZpbGwtcnVsZT0iZXZlbm9kZCI+CiAgICAgICAgPHBhdGggZD0iTS0xLTFoMjB2MjBILTF6Ii8+CiAgICAgICAgPHBhdGggZmlsbD0idXJsKCNhKSIgZmlsbC1ydWxlPSJub256ZXJvIiBkPSJNMTYuNjY3IDVIMTQuODVjLjA5Mi0uMjU4LjE1LS41NDIuMTUtLjgzM2EyLjQ5NyAyLjQ5NyAwIDAgMC00LjU4My0xLjM3NUwxMCAzLjM1bC0uNDE3LS41NjdBMi41MSAyLjUxIDAgMCAwIDcuNSAxLjY2N2EyLjQ5NyAyLjQ5NyAwIDAgMC0yLjUgMi41YzAgLjI5MS4wNTguNTc1LjE1LjgzM0gzLjMzM2MtLjkyNSAwLTEuNjU4Ljc0Mi0xLjY1OCAxLjY2N2wtLjAwOCA5LjE2NkExLjY2IDEuNjYgMCAwIDAgMy4zMzMgMTcuNWgxMy4zMzRhMS42NiAxLjY2IDAgMCAwIDEuNjY2LTEuNjY3VjYuNjY3QTEuNjYgMS42NiAwIDAgMCAxNi42NjcgNXptMCA2LjY2N0gzLjMzM3YtNWg0LjIzNEw1LjgzMyA5LjAyNWwxLjM1Ljk3NSAxLjk4NC0yLjdMMTAgNi4xNjdsLjgzMyAxLjEzMyAxLjk4NCAyLjcgMS4zNS0uOTc1LTEuNzM0LTIuMzU4aDQuMjM0djV6IiB0cmFuc2Zvcm09InRyYW5zbGF0ZSgtMSAtMSkiLz4KICAgIDwvZz4KPC9zdmc+Cg==\n",
      "data:image/svg+xml;base64,PHN2ZyB4bWxucz0iaHR0cDovL3d3dy53My5vcmcvMjAwMC9zdmciIHdpZHRoPSIxNSIgaGVpZ2h0PSIxNSIgdmlld0JveD0iMCAwIDE1IDE1Ij4KICAgIDxkZWZzPgogICAgICAgIDxsaW5lYXJHcmFkaWVudCBpZD0iYSIgeDE9IjAlIiB4Mj0iODYuODc2JSIgeTE9IjAlIiB5Mj0iODAuMjAyJSI+CiAgICAgICAgICAgIDxzdG9wIG9mZnNldD0iMCUiIHN0b3AtY29sb3I9IiNGRkQ4MDAiLz4KICAgICAgICAgICAgPHN0b3Agb2Zmc2V0PSIxMDAlIiBzdG9wLWNvbG9yPSIjRkZBRjAwIi8+CiAgICAgICAgPC9saW5lYXJHcmFkaWVudD4KICAgIDwvZGVmcz4KICAgIDxnIGZpbGw9Im5vbmUiIGZpbGwtcnVsZT0iZXZlbm9kZCI+CiAgICAgICAgPHBhdGggZD0iTS0yLTNoMjB2MjBILTJ6Ii8+CiAgICAgICAgPHBhdGggZmlsbD0idXJsKCNhKSIgZmlsbC1ydWxlPSJub256ZXJvIiBkPSJNOS41IDNDNS4zNiAzIDIgNi4zNiAyIDEwLjUgMiAxNC42NCA1LjM2IDE4IDkuNSAxOGM0LjE0IDAgNy41LTMuMzYgNy41LTcuNUMxNyA2LjM2IDEzLjY0IDMgOS41IDN6bS43NSAxMi43NWgtMS41di0xLjVoMS41djEuNXptMS41NTMtNS44MTNsLS42NzYuNjljLS41NC41NDgtLjg3Ny45OTgtLjg3NyAyLjEyM2gtMS41di0uMzc1YzAtLjgyNS4zMzgtMS41NzUuODc3LTIuMTIzbC45My0uOTQ1Yy4yNzgtLjI3LjQ0My0uNjQ1LjQ0My0xLjA1NyAwLS44MjUtLjY3NS0xLjUtMS41LTEuNVM4IDcuNDI1IDggOC4yNUg2LjVhMyAzIDAgMSAxIDYgMGMwIC42Ni0uMjcgMS4yNi0uNjk3IDEuNjg4eiIgdHJhbnNmb3JtPSJ0cmFuc2xhdGUoLTIgLTMpIi8+CiAgICA8L2c+Cjwvc3ZnPgo=\n",
      "//static-assets-web.flixcart.com/fk-p-linchpin-web/fk-cp-zion/img/payment-method_69e7ec.svg\n"
     ]
    }
   ],
   "source": [
    "url='https://www.flipkart.com/mobile-phones-store?fm=neo%2Fmerchandising&iid=M_467cf848-a857-4421-bc94-1cb682d23a0e_1_372UD5BXDFYS_MC.ZRQ4DKH28K8J&otracker=hp_rich_navigation_2_1.navigationCard.RICH_NAVIGATION_Mobiles_ZRQ4DKH28K8J&otracker1=hp_rich_navigation_PINNED_neo%2Fmerchandising_NA_NAV_EXPANDABLE_navigationCard_cc_2_L0_view-all&cid=ZRQ4DKH28K8J'\n",
    "req = requests.get(url)\n",
    "html = bs(req.text,'html.parser')\n",
    "\n",
    "images = html.find_all('img')\n",
    "img=[]\n",
    "\n",
    "for image in images:\n",
    "    src = image.get('src')\n",
    "    img.append(src)\n",
    "    print(src)"
   ]
  }
 ],
 "metadata": {
  "kernelspec": {
   "display_name": "Python 3 (ipykernel)",
   "language": "python",
   "name": "python3"
  },
  "language_info": {
   "codemirror_mode": {
    "name": "ipython",
    "version": 3
   },
   "file_extension": ".py",
   "mimetype": "text/x-python",
   "name": "python",
   "nbconvert_exporter": "python",
   "pygments_lexer": "ipython3",
   "version": "3.9.13"
  }
 },
 "nbformat": 4,
 "nbformat_minor": 5
}
