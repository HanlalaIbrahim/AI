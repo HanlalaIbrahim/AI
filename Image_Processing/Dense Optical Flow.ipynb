{
 "cells": [
  {
   "cell_type": "code",
   "execution_count": 1,
   "id": "f6207872",
   "metadata": {},
   "outputs": [],
   "source": [
    "import cv2 as cv\n",
    "import numpy as np  "
   ]
  },
  {
   "cell_type": "markdown",
   "id": "4dccb679",
   "metadata": {},
   "source": [
    "## Video Capture"
   ]
  },
  {
   "cell_type": "code",
   "execution_count": 2,
   "id": "aed931f7",
   "metadata": {},
   "outputs": [],
   "source": [
    "cap = cv.VideoCapture(\"videoplayback.mp4\")"
   ]
  },
  {
   "cell_type": "markdown",
   "id": "d75eade0",
   "metadata": {},
   "source": [
    "## Reading & Color Conversion"
   ]
  },
  {
   "cell_type": "code",
   "execution_count": 3,
   "id": "fc2f4bf6",
   "metadata": {},
   "outputs": [],
   "source": [
    "ret,frame = cap.read()\n",
    "prev_gray = cv.cvtColor(frame, cv.COLOR_BGR2GRAY)"
   ]
  },
  {
   "cell_type": "markdown",
   "id": "65d5ef3f",
   "metadata": {},
   "source": [
    "## Zero Matrix"
   ]
  },
  {
   "cell_type": "code",
   "execution_count": 4,
   "id": "df0aba80",
   "metadata": {},
   "outputs": [],
   "source": [
    "hsv = np.zeros_like(frame)\n",
    "hsv[..., 1] = 255"
   ]
  },
  {
   "cell_type": "markdown",
   "id": "ae9429a0",
   "metadata": {},
   "source": [
    "## Dense Optical Flow"
   ]
  },
  {
   "cell_type": "code",
   "execution_count": 5,
   "id": "a1d46609",
   "metadata": {
    "scrolled": true
   },
   "outputs": [
    {
     "name": "stderr",
     "output_type": "stream",
     "text": [
      "C:\\Users\\SN127\\AppData\\Local\\Temp\\ipykernel_7936\\3249573450.py:14: RuntimeWarning: invalid value encountered in cast\n",
      "  hsv[..., 2] = cv.normalize(mag, None, 0, 255, cv.NORM_MINMAX)\n"
     ]
    }
   ],
   "source": [
    "while(cap.isOpened()):\n",
    "    \n",
    "    # Read of video file\n",
    "    ret, fra = cap.read()  \n",
    "    cv.imshow(\"input\", fra)  \n",
    "    gray = cv.cvtColor(fra, cv.COLOR_BGR2GRAY)\n",
    "   \n",
    "    # Computes the dense optical flow using the Gunnar Farneback’s algorithm  \n",
    "    flow = cv.calcOpticalFlowFarneback(prev_gray, gray, None,0.5, 3, 15, 3, 5, 1.2, 0)\n",
    "    \n",
    "    # use flow to calculate the magnitude (speed) and angle of motion\n",
    "    # use these values to calculate the color to reflect speed and angle\n",
    "    mag, angle = cv.cartToPolar(flow[..., 0], flow[..., 1])\n",
    "    hsv[..., 0] = angle * 180 / np.pi / 2  \n",
    "    hsv[..., 2] = cv.normalize(mag, None, 0, 255, cv.NORM_MINMAX)\n",
    "    rgb = cv.cvtColor(hsv, cv.COLOR_HSV2BGR)\n",
    "    \n",
    "    # Show our demo of Dense Optical Flow\n",
    "    cv.imshow(\"dense optical flow\", rgb) \n",
    "    \n",
    "    # Store current image as previous image\n",
    "    prev_gray = gray\n",
    "      \n",
    "    if cv.waitKey(1) & 0xFF == ord('q'):\n",
    "        break\n",
    "  \n",
    "cap.release()\n",
    "cv.destroyAllWindows()"
   ]
  },
  {
   "cell_type": "code",
   "execution_count": null,
   "id": "61a3f9f4",
   "metadata": {},
   "outputs": [],
   "source": []
  }
 ],
 "metadata": {
  "kernelspec": {
   "display_name": "Python 3 (ipykernel)",
   "language": "python",
   "name": "python3"
  },
  "language_info": {
   "codemirror_mode": {
    "name": "ipython",
    "version": 3
   },
   "file_extension": ".py",
   "mimetype": "text/x-python",
   "name": "python",
   "nbconvert_exporter": "python",
   "pygments_lexer": "ipython3",
   "version": "3.10.10"
  }
 },
 "nbformat": 4,
 "nbformat_minor": 5
}
