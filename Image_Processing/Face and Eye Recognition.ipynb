{
 "cells": [
  {
   "cell_type": "code",
   "execution_count": null,
   "id": "e83de1df",
   "metadata": {},
   "outputs": [],
   "source": [
    "import cv2\n",
    "import numpy as np"
   ]
  },
  {
   "cell_type": "code",
   "execution_count": null,
   "id": "430156b5",
   "metadata": {},
   "outputs": [],
   "source": [
    "fd = cv2.CascadeClassifier(cv2.data.haarcascades + 'haarcascade_frontalface_default.xml')\n",
    "ed = cv2.CascadeClassifier(cv2.data.haarcascades + 'haarcascade_eye.xml')"
   ]
  },
  {
   "cell_type": "code",
   "execution_count": null,
   "id": "f712a023",
   "metadata": {},
   "outputs": [],
   "source": [
    "img = cv2.imread(\"people.jpg\")\n",
    "img_gray = cv2.cvtColor(img, cv2.COLOR_BGR2GRAY)"
   ]
  },
  {
   "cell_type": "code",
   "execution_count": null,
   "id": "76cd2aa1",
   "metadata": {},
   "outputs": [],
   "source": [
    "faces = fd.detectMultiScale(img_gray,scaleFactor=1.1,minNeighbors=1,minSize=(30, 10))\n",
    "for (x,y,w,h) in faces:\n",
    "    cv2.rectangle(img,(x,y),(x+w,y+h),(0,255,0),2)\n",
    "eyes = ed.detectMultiScale(img_gray,scaleFactor = 1.1,minNeighbors = 1, minSize=(10, 5))\n",
    "for (ex,ey,ew,eh) in eyes:\n",
    "    cv2.rectangle(img,(ex,ey),(ex+ew,ey+eh),(0,127,255),2)\n",
    "cv2.imshow(\"img\",img)\n",
    "cv2.waitKey(0)\n",
    "cv2.destroyAllWindows()"
   ]
  },
  {
   "cell_type": "markdown",
   "id": "90868f74",
   "metadata": {},
   "source": [
    "## Face and Eye Recognition in Video"
   ]
  },
  {
   "cell_type": "code",
   "execution_count": null,
   "id": "64f0b989",
   "metadata": {},
   "outputs": [],
   "source": [
    "cap = cv2.VideoCapture(\"videoplayback.mp4\")"
   ]
  },
  {
   "cell_type": "code",
   "execution_count": null,
   "id": "86d016e7",
   "metadata": {},
   "outputs": [],
   "source": [
    "while(1):\n",
    "    ret, fra = cap.read()  \n",
    "    #gray = cv2.cvtColor(fra, cv2.COLOR_RGB2GRAY)\n",
    "    \n",
    "    faces = fd.detectMultiScale(fra,scaleFactor=1.1,minNeighbors=1,minSize=(30, 10))\n",
    "    for (x,y,w,h) in faces:\n",
    "        cv2.rectangle(fra,(x,y),(x+w,y+h),(0,255,0),2)\n",
    "    \n",
    "    eyes = ed.detectMultiScale(fra,scaleFactor = 1.1,minNeighbors = 1, minSize=(10, 5))\n",
    "    for (ex,ey,ew,eh) in eyes:\n",
    "        cv2.rectangle(fra,(ex,ey),(ex+ew,ey+eh),(0,127,255),2)\n",
    "    \n",
    "    cv.imshow(\"dense optical flow\", fra) \n",
    "    \n",
    "\n",
    "    if cv2.waitKey(1) & 0xFF == ord('q'):\n",
    "        break\n",
    "    \n",
    "     \n",
    "    \n",
    "    cap.release()\n",
    "cv.destroyAllWindows()\n",
    "    "
   ]
  },
  {
   "cell_type": "code",
   "execution_count": null,
   "id": "f21830d2",
   "metadata": {},
   "outputs": [],
   "source": []
  }
 ],
 "metadata": {
  "kernelspec": {
   "display_name": "Python 3 (ipykernel)",
   "language": "python",
   "name": "python3"
  },
  "language_info": {
   "codemirror_mode": {
    "name": "ipython",
    "version": 3
   },
   "file_extension": ".py",
   "mimetype": "text/x-python",
   "name": "python",
   "nbconvert_exporter": "python",
   "pygments_lexer": "ipython3",
   "version": "3.10.10"
  }
 },
 "nbformat": 4,
 "nbformat_minor": 5
}
