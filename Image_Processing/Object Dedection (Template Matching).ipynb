{
 "cells": [
  {
   "cell_type": "markdown",
   "id": "6605924b",
   "metadata": {},
   "source": [
    "## object dedection using template matching"
   ]
  },
  {
   "cell_type": "code",
   "execution_count": 1,
   "id": "c5e76039",
   "metadata": {},
   "outputs": [],
   "source": [
    "import cv2\n",
    "import numpy as np\n",
    "from matplotlib import pyplot as plt"
   ]
  },
  {
   "cell_type": "code",
   "execution_count": 2,
   "id": "3c1167b8",
   "metadata": {},
   "outputs": [],
   "source": [
    "img_rgb = cv2.imread(\"spider man.jpg\")\n",
    "img_gray = cv2.cvtColor(img_rgb, cv2.COLOR_BGR2GRAY)\n",
    "template = cv2.imread(\"temp.jpg\",0)"
   ]
  },
  {
   "cell_type": "code",
   "execution_count": 3,
   "id": "cafca4aa",
   "metadata": {},
   "outputs": [
    {
     "data": {
      "text/plain": [
       "<function destroyAllWindows>"
      ]
     },
     "execution_count": 3,
     "metadata": {},
     "output_type": "execute_result"
    }
   ],
   "source": [
    "height, width = template.shape[::]\n",
    "\n",
    "match = cv2.matchTemplate(img_gray, template, cv2.TM_SQDIFF)\n",
    "\n",
    "min_val, max_val, min_loc, max_loc= cv2.minMaxLoc(match)\n",
    "\n",
    "top_left = min_loc\n",
    "\n",
    "bottom_right = (top_left[0] + width, top_left[1] + height)\n",
    "\n",
    "cv2.rectangle(img_rgb, top_left, bottom_right,(255, 0, 0),2)\n",
    "\n",
    "cv2.imshow(\"Matched image\",img_rgb)\n",
    "cv2.waitKey(0)\n",
    "cv2.destroyAllWindows"
   ]
  }
 ],
 "metadata": {
  "kernelspec": {
   "display_name": "Python 3 (ipykernel)",
   "language": "python",
   "name": "python3"
  },
  "language_info": {
   "codemirror_mode": {
    "name": "ipython",
    "version": 3
   },
   "file_extension": ".py",
   "mimetype": "text/x-python",
   "name": "python",
   "nbconvert_exporter": "python",
   "pygments_lexer": "ipython3",
   "version": "3.9.16"
  }
 },
 "nbformat": 4,
 "nbformat_minor": 5
}
