{
 "cells": [
  {
   "cell_type": "code",
   "execution_count": 1,
   "id": "167beda8",
   "metadata": {},
   "outputs": [],
   "source": [
    "import cv2\n",
    "import numpy as np\n",
    "from matplotlib import pyplot as plt"
   ]
  },
  {
   "cell_type": "code",
   "execution_count": 2,
   "id": "04ab771e",
   "metadata": {},
   "outputs": [],
   "source": [
    "img = cv2.imread('hydrabad.jpg')"
   ]
  },
  {
   "cell_type": "markdown",
   "id": "20af8029",
   "metadata": {},
   "source": [
    "## Canny Edge"
   ]
  },
  {
   "cell_type": "code",
   "execution_count": 3,
   "id": "3f4e2d6c",
   "metadata": {},
   "outputs": [],
   "source": [
    "canny = cv2.Canny(img,500,80)"
   ]
  },
  {
   "cell_type": "code",
   "execution_count": 4,
   "id": "5381c24a",
   "metadata": {},
   "outputs": [
    {
     "data": {
      "text/plain": [
       "-1"
      ]
     },
     "execution_count": 4,
     "metadata": {},
     "output_type": "execute_result"
    }
   ],
   "source": [
    "cv2.imshow(\"Orginal\",img)\n",
    "cv2.imshow(\"Canny edge\",canny)\n",
    "cv2.waitKey()"
   ]
  },
  {
   "cell_type": "markdown",
   "id": "67d13840",
   "metadata": {},
   "source": [
    "## Video Reading"
   ]
  },
  {
   "cell_type": "code",
   "execution_count": 5,
   "id": "3effc9fe",
   "metadata": {},
   "outputs": [],
   "source": [
    "vid = cv2.VideoCapture(\"videoplayback.mp4\")"
   ]
  },
  {
   "cell_type": "markdown",
   "id": "425d4ffe",
   "metadata": {},
   "source": [
    "## Canny Edge Detection in Video"
   ]
  },
  {
   "cell_type": "code",
   "execution_count": 6,
   "id": "2a6cdb60",
   "metadata": {},
   "outputs": [],
   "source": [
    "while(1):\n",
    "    ret,frame = vid.read()\n",
    "    gray = cv2.cvtColor(frame, cv2.COLOR_BGR2GRAY)\n",
    "    cv2.imshow(\"Orginal\",frame)\n",
    "    edges = cv2.Canny(frame,100,50)\n",
    "    cv2.imshow(\"edges\",edges)\n",
    "    if cv2.waitKey(1) & 0xFF == ord(\"q\"):\n",
    "        break\n",
    "vid.release()\n",
    "cv2.destroyAllWindows()"
   ]
  },
  {
   "cell_type": "code",
   "execution_count": null,
   "id": "748415e5",
   "metadata": {},
   "outputs": [],
   "source": []
  }
 ],
 "metadata": {
  "kernelspec": {
   "display_name": "Python 3 (ipykernel)",
   "language": "python",
   "name": "python3"
  },
  "language_info": {
   "codemirror_mode": {
    "name": "ipython",
    "version": 3
   },
   "file_extension": ".py",
   "mimetype": "text/x-python",
   "name": "python",
   "nbconvert_exporter": "python",
   "pygments_lexer": "ipython3",
   "version": "3.9.16"
  }
 },
 "nbformat": 4,
 "nbformat_minor": 5
}
