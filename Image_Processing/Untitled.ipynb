{
 "cells": [
  {
   "cell_type": "code",
   "execution_count": 2,
   "id": "bd6a5f92",
   "metadata": {},
   "outputs": [],
   "source": [
    "import cv2 as c\n",
    "import numpy as np"
   ]
  },
  {
   "cell_type": "code",
   "execution_count": null,
   "id": "8352537a",
   "metadata": {},
   "outputs": [],
   "source": [
    "cap = c.VideoCapture('')"
   ]
  },
  {
   "cell_type": "markdown",
   "id": "d9eca425",
   "metadata": {},
   "source": [
    "## bounding box"
   ]
  },
  {
   "cell_type": "code",
   "execution_count": null,
   "id": "640174b9",
   "metadata": {},
   "outputs": [],
   "source": [
    "def drawBox(img,bbox):\n",
    "    z,y,w,h=int (bbox[0]),int(bbox[1]),int(bbox[2]),int(bbox[3])\n",
    "    c.rectangle(img,x,y)"
   ]
  },
  {
   "cell_type": "code",
   "execution_count": 5,
   "id": "822ec0c2",
   "metadata": {},
   "outputs": [
    {
     "name": "stdout",
     "output_type": "stream",
     "text": [
      "Collecting opencv-contrib-python\n",
      "  Downloading opencv_contrib_python-4.7.0.72-cp37-abi3-win_amd64.whl (44.9 MB)\n",
      "     ---------------------------------------- 44.9/44.9 MB 8.0 MB/s eta 0:00:00\n",
      "Requirement already satisfied: numpy>=1.19.3 in c:\\users\\sn131\\anaconda3\\envs\\ai_cse\\lib\\site-packages (from opencv-contrib-python) (1.24.1)\n",
      "Installing collected packages: opencv-contrib-python\n",
      "Successfully installed opencv-contrib-python-4.7.0.72\n",
      "Note: you may need to restart the kernel to use updated packages.\n"
     ]
    }
   ],
   "source": [
    "pip install --user opencv-contrib-python"
   ]
  },
  {
   "cell_type": "code",
   "execution_count": null,
   "id": "0a013d33",
   "metadata": {},
   "outputs": [],
   "source": [
    "import cv2\n",
    "\n",
    "# Load the video file\n",
    "cap = cv2.VideoCapture(\"video.mp4\")\n",
    "\n",
    "# Create a tracker object\n",
    "tracker = cv2.TrackerCSRT_create()\n",
    "\n",
    "# Initialize the bounding box coordinates of the object to be tracked\n",
    "bbox = None\n",
    "\n",
    "# Loop over the frames in the video\n",
    "while True:\n",
    "    # Read the current frame\n",
    "    ret, frame = cap.read()\n",
    "\n",
    "    # If we have reached the end of the video, break from the loop\n",
    "    if not ret:\n",
    "        break\n",
    "\n",
    "    # Convert the frame to grayscale for better processing speed\n",
    "    gray = cv2.cvtColor(frame, cv2.COLOR_BGR2GRAY)\n",
    "\n",
    "    # If the bounding box has not been set, use a ROI selector to set it\n",
    "    if bbox is None:\n",
    "        bbox = cv2.selectROI(\"Select Object\", frame, fromCenter=False, showCrosshair=True)\n",
    "        # Initialize the tracker with the first frame and the bounding box\n",
    "        tracker.init(frame, bbox)\n",
    "\n",
    "    # Update the tracker and get the new bounding box\n",
    "    success, bbox = tracker.update(frame)\n",
    "\n",
    "    # If the tracking is successful, draw the bounding box on the frame\n",
    "    if success:\n",
    "        # Convert the bounding box coordinates to integers\n",
    "        bbox = [int(coord) for coord in bbox]\n",
    "        # Draw the bounding box on the frame\n",
    "        cv2.rectangle(frame, (bbox[0], bbox[1]), (bbox[0]+bbox[2], bbox[1]+bbox[3]), (0, 255, 0), 2)\n",
    "        # Add label name above the box\n",
    "        cv2.putText(frame, \"Human Face\", (bbox[0], bbox[1]-10), cv2.FONT_HERSHEY_SIMPLEX, 0.7, (0, 255, 0), 2)\n",
    "\n",
    "    # Display the resulting frame\n",
    "    cv2.imshow(\"Object Tracking\", frame)\n",
    "\n",
    "    # Wait for key press\n",
    "    key = cv2.waitKey(30) & 0xFF\n",
    "\n",
    "    # If the 'q' key is pressed, break from the loop\n",
    "    if key == ord(\"q\"):\n",
    "        break\n",
    "\n",
    "# Release the resources\n",
    "cap.release()\n",
    "cv2.destroyAllWindows()\n"
   ]
  }
 ],
 "metadata": {
  "kernelspec": {
   "display_name": "Python 3 (ipykernel)",
   "language": "python",
   "name": "python3"
  },
  "language_info": {
   "codemirror_mode": {
    "name": "ipython",
    "version": 3
   },
   "file_extension": ".py",
   "mimetype": "text/x-python",
   "name": "python",
   "nbconvert_exporter": "python",
   "pygments_lexer": "ipython3",
   "version": "3.9.16"
  }
 },
 "nbformat": 4,
 "nbformat_minor": 5
}
